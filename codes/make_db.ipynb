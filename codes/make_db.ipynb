{
 "cells": [
  {
   "cell_type": "code",
   "execution_count": 58,
   "metadata": {},
   "outputs": [
    {
     "data": {
      "text/plain": [
       "<sqlite3.Cursor at 0x7f85c6c08b20>"
      ]
     },
     "execution_count": 58,
     "metadata": {},
     "output_type": "execute_result"
    }
   ],
   "source": [
    "import re\n",
    "import requests\n",
    "from bs4 import BeautifulSoup\n",
    "import sqlite3\n",
    "from pymystem3 import Mystem\n",
    "import nltk\n",
    "from nltk.tokenize import sent_tokenize\n",
    "from tqdm import tqdm\n",
    "from thisapidoesnotexist import get_cat\n",
    "from matplotlib import pyplot as plt\n",
    "\n",
    "conn = sqlite3.connect('stihi.db')\n",
    "c = conn.cursor()\n",
    "m = Mystem()\n",
    "c.execute(\"CREATE TABLE IF NOT EXISTS 'Stihi'('id' integer PRIMARY KEY AUTOINCREMENT, 'word1', 'lemma1', 'pos1', 'word2', 'lemma2', 'pos2', 'word3', 'lemma3', 'pos3', 'texts' text, 'url')\")"
   ]
  },
  {
   "cell_type": "markdown",
   "metadata": {},
   "source": [
    "Функция, достающая стихи про животных с сайта Rustih.ru"
   ]
  },
  {
   "cell_type": "code",
   "execution_count": 48,
   "metadata": {},
   "outputs": [],
   "source": [
    "def get_texts():\n",
    "    texts = []\n",
    "    hrefs = []\n",
    "    response = requests.get('https://rustih.ru/stixi-o-zhivotnyx/', headers={'User-agent':'Mozilla/5.0'}).text\n",
    "    soup = BeautifulSoup(response,'html.parser')\n",
    "    et = soup.find_all('div', {'class': 'entry-title'})\n",
    "    for i in et:\n",
    "        hr = i.find('a').attrs['href']\n",
    "        hrefs.append(hr)\n",
    "        response = requests.get(hr, headers={'User-agent':'Mozilla/5.0'}).text\n",
    "        soup = BeautifulSoup(response,'html.parser')\n",
    "        pt = soup.find('div', {'class': 'entry-content poem-text'})\n",
    "        text = pt.find_all(['p', 'h2'])\n",
    "        t = ''\n",
    "        for j in text:\n",
    "            if 'adsbygoogle' not in j.text:\n",
    "                j = re.sub('<br/>', '\\n', str(j))\n",
    "                j = re.sub('</p>', '\\n', j)\n",
    "                j = re.sub('<.+>', '', j)\n",
    "                clt = re.sub('\\\\u200e', '', j)\n",
    "                t += clt\n",
    "            else:\n",
    "                break\n",
    "        texts.append(t)\n",
    "\n",
    "    return texts, hrefs"
   ]
  },
  {
   "cell_type": "code",
   "execution_count": 50,
   "metadata": {},
   "outputs": [],
   "source": [
    "texts, hrefs = get_texts()\n",
    "texts = texts[:3]+ texts[4:]"
   ]
  },
  {
   "cell_type": "markdown",
   "metadata": {},
   "source": [
    "Функция, заносящая тексты в базу в нужном формате.\n",
    "Колонки в таблице: word1, lemma1, pos1, word2, lemma2, pos2, word3, lemma3, pos3, texts, url"
   ]
  },
  {
   "cell_type": "code",
   "execution_count": 56,
   "metadata": {},
   "outputs": [],
   "source": [
    "def make_db(texts, hrefs):\n",
    "    for i in tqdm(range(len(texts))):\n",
    "        sents = sent_tokenize(texts[i])\n",
    "        for s in sents:\n",
    "            ana = []\n",
    "            for w in m.analyze(s):\n",
    "                if 'analysis' in w:\n",
    "                    if w['analysis'] == []:\n",
    "                        pos = ''\n",
    "                        lemma = ''\n",
    "                    elif 'gr' not in w['analysis'][0]:\n",
    "                        pos = ''\n",
    "                    elif 'lex' not in w['analysis'][0]:\n",
    "                        lemma = ''\n",
    "                    else:\n",
    "                        gr = w['analysis'][0]['gr']\n",
    "                        pos = gr.split('=')[0].split(',')[0]\n",
    "                        lemma = w['analysis'][0]['lex']\n",
    "                    ana.append((w['text'].lower(), lemma, pos))\n",
    "            ana.extend([('', '', ''), ('', '', '')])\n",
    "                    \n",
    "            for j in range(len(ana[:-2])):\n",
    "                v = (ana[j][0], ana[j][1], ana[j][2], ana[j+1][0], ana[j+1][1], ana[j+1][2], ana[j+2][0], ana[j+2][1], ana[j+2][2], s, hrefs[i])\n",
    "                c.execute(\"INSERT INTO Stihi (word1, lemma1, pos1, word2, lemma2, pos2, word3, lemma3, pos3, texts, url) VALUES (?, ?, ?, ?, ?, ?, ?, ?, ?, ?, ?)\", v)\n",
    "                conn.commit()\n"
   ]
  },
  {
   "cell_type": "code",
   "execution_count": 59,
   "metadata": {},
   "outputs": [
    {
     "name": "stderr",
     "output_type": "stream",
     "text": [
      "100%|██████████| 114/114 [04:16<00:00,  2.25s/it]\n"
     ]
    }
   ],
   "source": [
    "make_db(texts, hrefs)"
   ]
  },
  {
   "cell_type": "code",
   "execution_count": 44,
   "metadata": {},
   "outputs": [],
   "source": [
    "conn.close()"
   ]
  },
  {
   "cell_type": "code",
   "execution_count": null,
   "metadata": {},
   "outputs": [],
   "source": []
  }
 ],
 "metadata": {
  "kernelspec": {
   "display_name": "Python 3",
   "language": "python",
   "name": "python3"
  },
  "language_info": {
   "codemirror_mode": {
    "name": "ipython",
    "version": 3
   },
   "file_extension": ".py",
   "mimetype": "text/x-python",
   "name": "python",
   "nbconvert_exporter": "python",
   "pygments_lexer": "ipython3",
   "version": "3.7.4"
  }
 },
 "nbformat": 4,
 "nbformat_minor": 2
}
