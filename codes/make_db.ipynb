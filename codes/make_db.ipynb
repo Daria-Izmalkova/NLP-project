{
 "cells": [
  {
   "cell_type": "code",
   "execution_count": 136,
   "metadata": {},
   "outputs": [
    {
     "data": {
      "text/plain": [
       "<sqlite3.Cursor at 0x7f4f36847880>"
      ]
     },
     "execution_count": 136,
     "metadata": {},
     "output_type": "execute_result"
    }
   ],
   "source": [
    "import re\n",
    "import requests\n",
    "from bs4 import BeautifulSoup\n",
    "import sqlite3\n",
    "from pymystem3 import Mystem\n",
    "import nltk\n",
    "from nltk.tokenize import sent_tokenize\n",
    "from tqdm import tqdm\n",
    "from thisapidoesnotexist import get_cat\n",
    "from matplotlib import pyplot as plt\n",
    "\n",
    "conn = sqlite3.connect('stihi.db')\n",
    "c = conn.cursor()\n",
    "m = Mystem()\n",
    "c.execute(\"CREATE TABLE IF NOT EXISTS 'Stihi'('id' integer PRIMARY KEY AUTOINCREMENT, 'word1', 'lemma1', 'pos1', 'word2', 'lemma2', 'pos2', 'word3', 'lemma3', 'pos3', 'texts' text, 'url')\")"
   ]
  },
  {
   "cell_type": "markdown",
   "metadata": {},
   "source": [
    "Функция, достающая стихи про животных с сайта Rustih.ru."
   ]
  },
  {
   "cell_type": "code",
   "execution_count": 2,
   "metadata": {},
   "outputs": [],
   "source": [
    "def get_texts():\n",
    "    texts = []\n",
    "    hrefs = []\n",
    "    response = requests.get('https://rustih.ru/stixi-o-zhivotnyx/', headers={'User-agent':'Mozilla/5.0'}).text\n",
    "    soup = BeautifulSoup(response,'html.parser')\n",
    "    et = soup.find_all('div', {'class': 'entry-title'})\n",
    "    for i in et:\n",
    "        hr = i.find('a').attrs['href']\n",
    "        hrefs.append(hr)\n",
    "        response = requests.get(hr, headers={'User-agent':'Mozilla/5.0'}).text\n",
    "        soup = BeautifulSoup(response,'html.parser')\n",
    "        pt = soup.find('div', {'class': 'entry-content poem-text'})\n",
    "        text = pt.find_all(['p', 'h2'])\n",
    "        t = ''\n",
    "        for j in text:\n",
    "            if 'adsbygoogle' not in j.text:\n",
    "                if 'I' not in j.text:\n",
    "                    clt = re.sub('\\\\u200e', '', j.text)\n",
    "                    t += clt + ' '\n",
    "            else:\n",
    "                break\n",
    "        texts.append(t)\n",
    "\n",
    "    return texts, hrefs"
   ]
  },
  {
   "cell_type": "code",
   "execution_count": 3,
   "metadata": {},
   "outputs": [],
   "source": [
    "texts, hrefs = get_texts()"
   ]
  },
  {
   "cell_type": "markdown",
   "metadata": {},
   "source": [
    "Функция, заносящая тексты в базу в нужном формате.\n",
    "Колонки в таблице: word1, lemma1, pos1, word2, lemma2, pos2, word3, lemma3, pos3, texts, url."
   ]
  },
  {
   "cell_type": "code",
   "execution_count": 137,
   "metadata": {},
   "outputs": [],
   "source": [
    "def make_db(texts, hrefs):\n",
    "    for i in tqdm(range(len(texts))):\n",
    "        sents = sent_tokenize(texts[i])\n",
    "        for s in sents:\n",
    "            ana = []\n",
    "            for w in m.analyze(s):\n",
    "                if 'analysis' in w:\n",
    "                    if w['analysis'] == []:\n",
    "                        pos = ''\n",
    "                        lemma = ''\n",
    "                    elif 'gr' not in w['analysis'][0]:\n",
    "                        pos = ''\n",
    "                    elif 'lex' not in w['analysis'][0]:\n",
    "                        lemma = ''\n",
    "                    else:\n",
    "                        gr = w['analysis'][0]['gr']\n",
    "                        pos = gr.split('=')[0].split(',')[0]\n",
    "                        lemma = w['analysis'][0]['lex']\n",
    "                    ana.append((w['text'].lower(), lemma, pos))\n",
    "            ana.extend([('', '', ''), ('', '', '')])\n",
    "                    \n",
    "            for j in range(len(ana[:-2])):\n",
    "                v = (ana[j][0], ana[j][1], ana[j][2], ana[j+1][0], ana[j+1][1], ana[j+1][2], ana[j+2][0], ana[j+2][1], ana[j+2][2], s, hrefs[i])\n",
    "                c.execute(\"INSERT INTO Stihi (word1, lemma1, pos1, word2, lemma2, pos2, word3, lemma3, pos3, texts, url) VALUES (?, ?, ?, ?, ?, ?, ?, ?, ?, ?, ?)\", v)\n",
    "                conn.commit()\n"
   ]
  },
  {
   "cell_type": "code",
   "execution_count": 138,
   "metadata": {},
   "outputs": [
    {
     "name": "stderr",
     "output_type": "stream",
     "text": [
      "\n",
      "  0%|          | 0/115 [00:00<?, ?it/s]\u001b[A\n",
      "  1%|          | 1/115 [00:10<19:14, 10.12s/it]\u001b[A\n",
      "  2%|▏         | 2/115 [00:11<14:12,  7.54s/it]\u001b[A\n",
      "  3%|▎         | 3/115 [00:17<13:10,  7.06s/it]\u001b[A\n",
      "  3%|▎         | 4/115 [00:20<10:46,  5.82s/it]\u001b[A\n",
      "  4%|▍         | 5/115 [00:22<08:44,  4.77s/it]\u001b[A\n",
      "  5%|▌         | 6/115 [00:25<07:40,  4.23s/it]\u001b[A\n",
      "  6%|▌         | 7/115 [00:28<06:58,  3.87s/it]\u001b[A\n",
      "  7%|▋         | 8/115 [00:30<05:33,  3.12s/it]\u001b[A\n",
      "  8%|▊         | 9/115 [00:31<04:18,  2.44s/it]\u001b[A\n",
      "  9%|▊         | 10/115 [00:33<04:09,  2.37s/it]\u001b[A\n",
      " 10%|▉         | 11/115 [00:34<03:23,  1.95s/it]\u001b[A\n",
      " 10%|█         | 12/115 [00:42<06:41,  3.90s/it]\u001b[A\n",
      " 11%|█▏        | 13/115 [00:49<07:58,  4.69s/it]\u001b[A\n",
      " 12%|█▏        | 14/115 [00:51<06:33,  3.89s/it]\u001b[A\n",
      " 13%|█▎        | 15/115 [00:52<05:10,  3.10s/it]\u001b[A\n",
      " 14%|█▍        | 16/115 [00:52<03:47,  2.29s/it]\u001b[A\n",
      " 15%|█▍        | 17/115 [00:58<05:19,  3.26s/it]\u001b[A\n",
      " 16%|█▌        | 18/115 [01:00<04:34,  2.83s/it]\u001b[A\n",
      " 17%|█▋        | 19/115 [01:01<03:47,  2.37s/it]\u001b[A\n",
      " 17%|█▋        | 20/115 [01:02<03:11,  2.01s/it]\u001b[A\n",
      " 18%|█▊        | 21/115 [01:07<04:38,  2.97s/it]\u001b[A\n",
      " 19%|█▉        | 22/115 [01:08<03:20,  2.16s/it]\u001b[A\n",
      " 20%|██        | 23/115 [01:08<02:27,  1.61s/it]\u001b[A\n",
      " 21%|██        | 24/115 [01:10<02:25,  1.60s/it]\u001b[A\n",
      " 22%|██▏       | 25/115 [01:10<01:51,  1.24s/it]\u001b[A\n",
      " 23%|██▎       | 26/115 [01:10<01:28,  1.01it/s]\u001b[A\n",
      " 23%|██▎       | 27/115 [01:11<01:06,  1.33it/s]\u001b[A\n",
      " 24%|██▍       | 28/115 [01:13<01:49,  1.26s/it]\u001b[A\n",
      " 25%|██▌       | 29/115 [01:13<01:24,  1.02it/s]\u001b[A\n",
      " 26%|██▌       | 30/115 [01:14<01:02,  1.37it/s]\u001b[A\n",
      " 27%|██▋       | 31/115 [01:16<01:36,  1.15s/it]\u001b[A\n",
      " 28%|██▊       | 32/115 [01:16<01:19,  1.04it/s]\u001b[A\n",
      " 29%|██▊       | 33/115 [01:21<02:58,  2.18s/it]\u001b[A\n",
      " 30%|██▉       | 34/115 [01:22<02:12,  1.64s/it]\u001b[A\n",
      " 30%|███       | 35/115 [01:25<02:57,  2.22s/it]\u001b[A\n",
      " 31%|███▏      | 36/115 [01:30<03:52,  2.94s/it]\u001b[A\n",
      " 32%|███▏      | 37/115 [01:34<04:26,  3.41s/it]\u001b[A\n",
      " 33%|███▎      | 38/115 [01:39<04:56,  3.85s/it]\u001b[A\n",
      " 34%|███▍      | 39/115 [01:40<03:43,  2.94s/it]\u001b[A\n",
      " 35%|███▍      | 40/115 [01:40<02:43,  2.18s/it]\u001b[A\n",
      " 36%|███▌      | 41/115 [01:43<02:54,  2.36s/it]\u001b[A\n",
      " 37%|███▋      | 42/115 [01:45<02:31,  2.07s/it]\u001b[A\n",
      " 37%|███▋      | 43/115 [01:46<02:20,  1.94s/it]\u001b[A\n",
      " 38%|███▊      | 44/115 [01:49<02:45,  2.33s/it]\u001b[A\n",
      " 39%|███▉      | 45/115 [01:50<02:01,  1.74s/it]\u001b[A\n",
      " 40%|████      | 46/115 [01:51<01:38,  1.43s/it]\u001b[A\n",
      " 41%|████      | 47/115 [01:51<01:23,  1.22s/it]\u001b[A\n",
      " 42%|████▏     | 48/115 [01:53<01:38,  1.47s/it]\u001b[A\n",
      " 43%|████▎     | 49/115 [01:55<01:35,  1.45s/it]\u001b[A\n",
      " 43%|████▎     | 50/115 [01:57<01:43,  1.60s/it]\u001b[A\n",
      " 44%|████▍     | 51/115 [01:58<01:35,  1.50s/it]\u001b[A\n",
      " 45%|████▌     | 52/115 [01:59<01:21,  1.29s/it]\u001b[A\n",
      " 46%|████▌     | 53/115 [02:13<05:21,  5.18s/it]\u001b[A\n",
      " 47%|████▋     | 54/115 [02:15<04:21,  4.29s/it]\u001b[A\n",
      " 48%|████▊     | 55/115 [02:16<03:12,  3.20s/it]\u001b[A\n",
      " 49%|████▊     | 56/115 [02:18<02:45,  2.80s/it]\u001b[A\n",
      " 50%|████▉     | 57/115 [02:19<02:20,  2.43s/it]\u001b[A\n",
      " 50%|█████     | 58/115 [02:21<02:03,  2.16s/it]\u001b[A\n",
      " 51%|█████▏    | 59/115 [02:22<01:50,  1.98s/it]\u001b[A\n",
      " 52%|█████▏    | 60/115 [02:35<04:37,  5.05s/it]\u001b[A\n",
      " 53%|█████▎    | 61/115 [02:37<03:47,  4.22s/it]\u001b[A\n",
      " 54%|█████▍    | 62/115 [02:38<02:59,  3.40s/it]\u001b[A\n",
      " 55%|█████▍    | 63/115 [02:39<02:19,  2.69s/it]\u001b[A\n",
      " 56%|█████▌    | 64/115 [02:40<01:39,  1.96s/it]\u001b[A\n",
      " 57%|█████▋    | 65/115 [02:40<01:17,  1.54s/it]\u001b[A\n",
      " 57%|█████▋    | 66/115 [02:41<00:58,  1.20s/it]\u001b[A\n",
      " 58%|█████▊    | 67/115 [02:41<00:44,  1.08it/s]\u001b[A\n",
      " 59%|█████▉    | 68/115 [02:41<00:32,  1.43it/s]\u001b[A\n",
      " 60%|██████    | 69/115 [02:41<00:24,  1.84it/s]\u001b[A\n",
      " 61%|██████    | 70/115 [02:42<00:21,  2.05it/s]\u001b[A\n",
      " 62%|██████▏   | 71/115 [02:42<00:17,  2.50it/s]\u001b[A\n",
      " 63%|██████▎   | 72/115 [02:42<00:17,  2.45it/s]\u001b[A\n",
      " 63%|██████▎   | 73/115 [02:43<00:24,  1.72it/s]\u001b[A\n",
      " 64%|██████▍   | 74/115 [02:46<00:50,  1.22s/it]\u001b[A\n",
      " 65%|██████▌   | 75/115 [02:48<00:58,  1.47s/it]\u001b[A\n",
      " 66%|██████▌   | 76/115 [02:49<00:57,  1.48s/it]\u001b[A\n",
      " 67%|██████▋   | 77/115 [02:56<01:49,  2.89s/it]\u001b[A\n",
      " 68%|██████▊   | 78/115 [02:59<01:48,  2.94s/it]\u001b[A\n",
      " 69%|██████▊   | 79/115 [03:01<01:37,  2.72s/it]\u001b[A\n",
      " 70%|██████▉   | 80/115 [03:04<01:33,  2.68s/it]\u001b[A\n",
      " 70%|███████   | 81/115 [03:05<01:17,  2.29s/it]\u001b[A\n",
      " 71%|███████▏  | 82/115 [03:07<01:09,  2.11s/it]\u001b[A\n",
      " 72%|███████▏  | 83/115 [03:19<02:50,  5.32s/it]\u001b[A\n",
      " 73%|███████▎  | 84/115 [03:20<02:02,  3.97s/it]\u001b[A\n",
      " 74%|███████▍  | 85/115 [03:22<01:40,  3.34s/it]\u001b[A\n",
      " 75%|███████▍  | 86/115 [03:22<01:10,  2.42s/it]\u001b[A\n",
      " 76%|███████▌  | 87/115 [03:28<01:33,  3.36s/it]\u001b[A\n",
      " 77%|███████▋  | 88/115 [03:28<01:07,  2.50s/it]\u001b[A\n",
      " 77%|███████▋  | 89/115 [03:29<00:48,  1.85s/it]\u001b[A\n",
      " 78%|███████▊  | 90/115 [03:30<00:40,  1.62s/it]\u001b[A\n",
      " 79%|███████▉  | 91/115 [03:31<00:32,  1.37s/it]\u001b[A\n",
      " 80%|████████  | 92/115 [03:31<00:25,  1.11s/it]\u001b[A\n",
      " 81%|████████  | 93/115 [03:32<00:22,  1.01s/it]\u001b[A\n",
      " 82%|████████▏ | 94/115 [03:34<00:27,  1.31s/it]\u001b[A\n",
      " 83%|████████▎ | 95/115 [03:36<00:31,  1.56s/it]\u001b[A\n",
      " 83%|████████▎ | 96/115 [03:38<00:31,  1.67s/it]\u001b[A\n",
      " 84%|████████▍ | 97/115 [03:38<00:23,  1.31s/it]\u001b[A\n",
      " 85%|████████▌ | 98/115 [03:40<00:24,  1.43s/it]\u001b[A\n",
      " 86%|████████▌ | 99/115 [03:47<00:50,  3.15s/it]\u001b[A\n",
      " 87%|████████▋ | 100/115 [03:48<00:36,  2.43s/it]\u001b[A\n",
      " 88%|████████▊ | 101/115 [03:49<00:27,  1.97s/it]\u001b[A\n",
      " 89%|████████▊ | 102/115 [03:50<00:21,  1.68s/it]\u001b[A\n",
      " 90%|████████▉ | 103/115 [03:51<00:16,  1.40s/it]\u001b[A\n",
      " 90%|█████████ | 104/115 [03:53<00:18,  1.70s/it]\u001b[A\n",
      " 91%|█████████▏| 105/115 [03:55<00:16,  1.63s/it]\u001b[A\n",
      " 92%|█████████▏| 106/115 [03:55<00:11,  1.31s/it]\u001b[A\n",
      " 93%|█████████▎| 107/115 [03:56<00:08,  1.06s/it]\u001b[A\n",
      " 94%|█████████▍| 108/115 [03:57<00:07,  1.04s/it]\u001b[A\n",
      " 96%|█████████▌| 110/115 [03:58<00:04,  1.13it/s]\u001b[A\n",
      " 97%|█████████▋| 111/115 [03:58<00:03,  1.16it/s]\u001b[A\n",
      " 97%|█████████▋| 112/115 [04:01<00:04,  1.35s/it]\u001b[A\n",
      " 98%|█████████▊| 113/115 [04:03<00:03,  1.56s/it]\u001b[A\n",
      " 99%|█████████▉| 114/115 [04:19<00:05,  5.75s/it]\u001b[A\n",
      "100%|██████████| 115/115 [04:20<00:00,  2.27s/it]\u001b[A\n"
     ]
    }
   ],
   "source": [
    "make_db(texts, hrefs)"
   ]
  },
  {
   "cell_type": "code",
   "execution_count": 153,
   "metadata": {},
   "outputs": [],
   "source": [
    "conn.close()"
   ]
  }
 ],
 "metadata": {
  "kernelspec": {
   "display_name": "Python 3",
   "language": "python",
   "name": "python3"
  },
  "language_info": {
   "codemirror_mode": {
    "name": "ipython",
    "version": 3
   },
   "file_extension": ".py",
   "mimetype": "text/x-python",
   "name": "python",
   "nbconvert_exporter": "python",
   "pygments_lexer": "ipython3",
   "version": "3.8.6"
  }
 },
 "nbformat": 4,
 "nbformat_minor": 2
}
